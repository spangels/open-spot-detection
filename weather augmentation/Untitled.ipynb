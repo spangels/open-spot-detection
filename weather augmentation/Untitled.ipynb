{
 "cells": [
  {
   "cell_type": "code",
   "execution_count": 1,
   "id": "1c5ec090",
   "metadata": {},
   "outputs": [],
   "source": [
    "import scipy.io\n",
    "import os\n",
    "from PIL import Image\n",
    "from matplotlib import pyplot as plt\n",
    "import numpy as np\n",
    "import torch\n",
    "import pytorch_lightning as ptl\n",
    "from weatherGan.models.Discriminators import WeatherDiscriminator, Expert\n",
    "from weatherGan.models.WeatherGan import WeatherGan\n",
    "from weatherGan.dataloader.dataset import ImageDataset"
   ]
  },
  {
   "cell_type": "code",
   "execution_count": 2,
   "id": "c769de34",
   "metadata": {},
   "outputs": [],
   "source": [
    "PATH = 'datasets/dataset/'"
   ]
  },
  {
   "cell_type": "code",
   "execution_count": 3,
   "id": "3529d6cb",
   "metadata": {},
   "outputs": [
    {
     "data": {
      "application/vnd.jupyter.widget-view+json": {
       "model_id": "f3e838d235ce4b3ca9e4d03d9198e956",
       "version_major": 2,
       "version_minor": 0
      },
      "text/plain": [
       "  0%|          | 0/2000 [00:00<?, ?it/s]"
      ]
     },
     "metadata": {},
     "output_type": "display_data"
    }
   ],
   "source": [
    "val_dataset = ImageDataset(data_dir=PATH,transform= lambda x : x/255,target_transform= lambda x : torch.nn.functional.one_hot( torch.tensor(int(x)), 2), mode='test'\n",
    ")"
   ]
  },
  {
   "cell_type": "code",
   "execution_count": 4,
   "id": "ecaf3c59",
   "metadata": {},
   "outputs": [],
   "source": [
    "from torch.utils.data import DataLoader\n",
    "val_loader = DataLoader(val_dataset, batch_size = 4,num_workers=8)"
   ]
  },
  {
   "cell_type": "code",
   "execution_count": null,
   "id": "5af6c634",
   "metadata": {},
   "outputs": [],
   "source": [
    "model = WeatherGan.load_from_checkpoint('checkpoints/gancheckpoints/')"
   ]
  }
 ],
 "metadata": {
  "environment": {
   "name": "pytorch-gpu.1-9.m79",
   "type": "gcloud",
   "uri": "gcr.io/deeplearning-platform-release/pytorch-gpu.1-9:m79"
  },
  "kernelspec": {
   "display_name": "Python 3",
   "language": "python",
   "name": "python3"
  },
  "language_info": {
   "codemirror_mode": {
    "name": "ipython",
    "version": 3
   },
   "file_extension": ".py",
   "mimetype": "text/x-python",
   "name": "python",
   "nbconvert_exporter": "python",
   "pygments_lexer": "ipython3",
   "version": "3.7.10"
  }
 },
 "nbformat": 4,
 "nbformat_minor": 5
}
