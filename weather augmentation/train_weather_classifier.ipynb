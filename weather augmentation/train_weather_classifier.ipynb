{
 "cells": [
  {
   "cell_type": "code",
   "execution_count": 1,
   "id": "bce8562e",
   "metadata": {},
   "outputs": [],
   "source": [
    "import scipy.io\n",
    "import os\n",
    "from PIL import Image\n",
    "from matplotlib import pyplot as plt\n",
    "import numpy as np\n",
    "import torch\n",
    "import pytorch_lightning as ptl\n",
    "from weatherGan.models.Discriminators import WeatherDiscriminator"
   ]
  },
  {
   "cell_type": "code",
   "execution_count": 2,
   "id": "174bddf0",
   "metadata": {},
   "outputs": [],
   "source": [
    "import tqdm\n",
    "class CustomImageDataset(torch.utils.data.Dataset):\n",
    "    def __init__(self,  data_dir, transform=None, target_transform=None,mode='train'):\n",
    "        super(CustomImageDataset,self).__init__()\n",
    "        imgs, segs, labels, targets = self.__load_images(data_dir,mode)\n",
    "        self.imgs = imgs\n",
    "        self.segs = segs\n",
    "        self.labels = labels\n",
    "        self.targets = targets\n",
    "        self.transform = transform\n",
    "        self.target_transform = target_transform\n",
    "\n",
    "    def __len__(self):\n",
    "        return len(self.imgs)\n",
    "    def img_to_seg(self,image_name):\n",
    "        idx = image_name.index('_')\n",
    "        seg_name = image_name[:idx]+'_mask'+image_name[idx:-3]+'mat'\n",
    "        return seg_name\n",
    "        \n",
    "    \n",
    "    def __load_images(self,path,mode='train'):\n",
    "        path_img, path_mask = path+f'{mode}_images/', path+f'{mode}_mats/' \n",
    "        images = [img for img in os.listdir(path+f'{mode}_images/')]\n",
    "        imgs, segs, labels, targets = [], [], [], []\n",
    "        for img in tqdm.tqdm_notebook(images):\n",
    "            img_path = path_img + img\n",
    "            seg_path = path_mask + self.img_to_seg(img)\n",
    "            img_array = np.array(Image.open(img_path))\n",
    "            seg_array = np.array(scipy.io.loadmat(seg_path)['seg_mask'])\n",
    "            imgs.append(img_array)\n",
    "            segs.append(seg_array)\n",
    "            label = np.array([ 'sunny' in img ])\n",
    "            labels.append(label)\n",
    "            targets.append(1-label)\n",
    "        return imgs, segs, labels, targets\n",
    "\n",
    "    def __getitem__(self, idx):\n",
    "        image = self.imgs[idx]\n",
    "        label = self.labels[idx]\n",
    "        target = self.targets[idx]\n",
    "        if self.transform:\n",
    "            image = self.transform(image)\n",
    "            \n",
    "        if self.target_transform:\n",
    "            label = self.target_transform(label)\n",
    "            target = self.target_transform(target)\n",
    "            \n",
    "        return torch.tensor(image).permute(2,0,1), torch.tensor(self.segs[idx]), label, target"
   ]
  },
  {
   "cell_type": "code",
   "execution_count": 3,
   "id": "a69ea4ce",
   "metadata": {},
   "outputs": [
    {
     "name": "stderr",
     "output_type": "stream",
     "text": [
      "/opt/conda/lib/python3.7/site-packages/ipykernel_launcher.py:25: TqdmDeprecationWarning: This function will be removed in tqdm==5.0.0\n",
      "Please use `tqdm.notebook.tqdm` instead of `tqdm.tqdm_notebook`\n"
     ]
    },
    {
     "data": {
      "application/vnd.jupyter.widget-view+json": {
       "model_id": "7bfc3e5893654574a5715a06347a37d1",
       "version_major": 2,
       "version_minor": 0
      },
      "text/plain": [
       "  0%|          | 0/8000 [00:00<?, ?it/s]"
      ]
     },
     "metadata": {},
     "output_type": "display_data"
    }
   ],
   "source": [
    "PATH = 'datasets/dataset/'\n",
    "train_dataset = CustomImageDataset(data_dir=PATH,transform= lambda x : x/255,target_transform= lambda x : torch.nn.functional.one_hot( torch.tensor(int(x)), 2)\n",
    ")"
   ]
  },
  {
   "cell_type": "code",
   "execution_count": 4,
   "id": "efd69571",
   "metadata": {},
   "outputs": [
    {
     "name": "stderr",
     "output_type": "stream",
     "text": [
      "/opt/conda/lib/python3.7/site-packages/ipykernel_launcher.py:25: TqdmDeprecationWarning: This function will be removed in tqdm==5.0.0\n",
      "Please use `tqdm.notebook.tqdm` instead of `tqdm.tqdm_notebook`\n"
     ]
    },
    {
     "data": {
      "application/vnd.jupyter.widget-view+json": {
       "model_id": "803afff2831d451fa192c2f2e7cdf075",
       "version_major": 2,
       "version_minor": 0
      },
      "text/plain": [
       "  0%|          | 0/2000 [00:00<?, ?it/s]"
      ]
     },
     "metadata": {},
     "output_type": "display_data"
    }
   ],
   "source": [
    "val_dataset = CustomImageDataset(data_dir=PATH,mode='test',transform= lambda x : x/255,target_transform= lambda x : torch.nn.functional.one_hot( torch.tensor(int(x)), 2)\n",
    ")"
   ]
  },
  {
   "cell_type": "code",
   "execution_count": 5,
   "id": "c994f38c",
   "metadata": {},
   "outputs": [],
   "source": [
    "from torch.utils.data import DataLoader\n",
    "train_loader = DataLoader(train_dataset, batch_size = 32,num_workers=8,shuffle = True)\n",
    "val_loader = DataLoader(val_dataset, batch_size = 1,num_workers=8,shuffle = False)"
   ]
  },
  {
   "cell_type": "code",
   "execution_count": 6,
   "id": "7e311fb1",
   "metadata": {},
   "outputs": [],
   "source": [
    "for img, seg, _ ,_ in train_loader:\n",
    "    break"
   ]
  },
  {
   "cell_type": "code",
   "execution_count": 7,
   "id": "771f78cc",
   "metadata": {},
   "outputs": [],
   "source": [
    "import torchmetrics"
   ]
  },
  {
   "cell_type": "code",
   "execution_count": 8,
   "id": "6536f133",
   "metadata": {},
   "outputs": [],
   "source": [
    "class WeatherClassifier(ptl.LightningModule):\n",
    "    def __init__(self,num_labels=2,lr=2e-5,**kwargs):\n",
    "        super(WeatherClassifier,self).__init__()\n",
    "        self.num_labels = num_labels\n",
    "        self.lr = lr\n",
    "        self.model = WeatherDiscriminator(num_labels=num_labels)\n",
    "        self.ce = torch.nn.CrossEntropyLoss()\n",
    "        self.acc = torchmetrics.functional.accuracy\n",
    "    def configure_optimizers(self):\n",
    "        optimizer = torch.optim.Adam(lr=self.lr,params=self.parameters() )\n",
    "        return optimizer\n",
    "    def forward(self,image):\n",
    "        pred = self.model(image)\n",
    "        return pred \n",
    "    \n",
    "    def training_step(self,batch, batch_idx):\n",
    "        image, _, label, _ = batch\n",
    "        batch_size, _, h, w = image.shape\n",
    "        prediction = self(image)\n",
    "        loss = self.ce(prediction, torch.argmax(label,dim=-1).long())\n",
    "        accuracy = self.acc(prediction, torch.argmax(label,dim=-1).long() )\n",
    "        self.log(\"loss\",loss,prog_bar=True,on_step=True)\n",
    "        self.log(\"accuracy\", accuracy, prog_bar=True,on_step = True)\n",
    "        return loss\n",
    "    def validation_step(self,batch, batch_idx):\n",
    "        image, _, label, _ = batch\n",
    "        batch_size, _, h, w = image.shape\n",
    "        prediction = self(image)\n",
    "        loss = self.ce(prediction, torch.argmax(label,dim=-1).long())\n",
    "        accuracy = self.acc(prediction, torch.argmax(label,dim=-1).long() )\n",
    "        self.log(\"val_loss\",loss,prog_bar=True,on_step=True)\n",
    "        self.log(\"val_accuracy\", accuracy, prog_bar=True,on_step = True)\n",
    "        return loss\n",
    "    def test_step(self,batch, batch_idx):\n",
    "        image, _, label, _ = batch\n",
    "        batch_size, _, h, w = image.shape\n",
    "        prediction = self(image)\n",
    "        loss = self.ce(prediction, torch.argmax(label,dim=-1).long())\n",
    "        accuracy = self.acc(prediction, torch.argmax(label,dim=-1).long() )\n",
    "        self.log(\"test_loss\",loss,prog_bar=True,on_step=True)\n",
    "        self.log(\"test_accuracy\", accuracy, prog_bar=True,on_step = True)\n",
    "        return loss\n",
    "        "
   ]
  },
  {
   "cell_type": "code",
   "execution_count": 9,
   "id": "47eaef4a",
   "metadata": {},
   "outputs": [],
   "source": [
    "model = WeatherClassifier.load_from_checkpoint('checkpoints/weatherClassifier/epoch=9-step=2499.ckpt').double()"
   ]
  },
  {
   "cell_type": "code",
   "execution_count": 10,
   "id": "5f0042ab",
   "metadata": {},
   "outputs": [
    {
     "data": {
      "text/plain": [
       "WeatherClassifier(\n",
       "  (model): WeatherDiscriminator(\n",
       "    (featureExtractor): FeatureExtractor(\n",
       "      (convBlock1): ConvBlock(\n",
       "        (conv): Conv2d(3, 3, kernel_size=(32, 32), stride=(2, 2), padding=(1, 1))\n",
       "        (activation): ReLU()\n",
       "        (pool): MaxPool2d(kernel_size=(2, 2), stride=1, padding=0, dilation=1, ceil_mode=False)\n",
       "        (layernorm): LayerNorm((3, 135, 135), eps=1e-05, elementwise_affine=True)\n",
       "      )\n",
       "      (convBlock2): ConvBlock(\n",
       "        (conv): Conv2d(3, 3, kernel_size=(32, 32), stride=(2, 2), padding=(1, 1))\n",
       "        (activation): ReLU()\n",
       "        (pool): MaxPool2d(kernel_size=(2, 2), stride=1, padding=0, dilation=1, ceil_mode=False)\n",
       "        (layernorm): LayerNorm((3, 52, 52), eps=1e-05, elementwise_affine=True)\n",
       "      )\n",
       "      (convBlock3): ConvBlock(\n",
       "        (conv): Conv2d(3, 3, kernel_size=(32, 32), stride=(2, 2), padding=(1, 1))\n",
       "        (activation): ReLU()\n",
       "        (pool): MaxPool2d(kernel_size=(2, 2), stride=1, padding=0, dilation=1, ceil_mode=False)\n",
       "        (layernorm): LayerNorm((3, 11, 11), eps=1e-05, elementwise_affine=True)\n",
       "      )\n",
       "      (flatten_layer): Flatten(start_dim=1, end_dim=-1)\n",
       "      (activation): ReLU()\n",
       "    )\n",
       "    (hidden_layer): Linear(in_features=363, out_features=100, bias=True)\n",
       "    (activation): ReLU()\n",
       "    (output_layer): Linear(in_features=100, out_features=2, bias=True)\n",
       "  )\n",
       "  (ce): CrossEntropyLoss()\n",
       ")"
      ]
     },
     "execution_count": 10,
     "metadata": {},
     "output_type": "execute_result"
    }
   ],
   "source": [
    "model.to(0)"
   ]
  },
  {
   "cell_type": "code",
   "execution_count": 11,
   "id": "61166b78",
   "metadata": {},
   "outputs": [
    {
     "data": {
      "application/vnd.jupyter.widget-view+json": {
       "model_id": "f53a773180374f3cbf7ff3e8297631b1",
       "version_major": 2,
       "version_minor": 0
      },
      "text/plain": [
       "  0%|          | 0/2000 [00:00<?, ?it/s]"
      ]
     },
     "metadata": {},
     "output_type": "display_data"
    },
    {
     "name": "stderr",
     "output_type": "stream",
     "text": [
      "/opt/conda/lib/python3.7/site-packages/torch/nn/functional.py:718: UserWarning: Named tensors and all their associated APIs are an experimental feature and subject to change. Please do not use them for anything important until they are released as stable. (Triggered internally at  /opt/conda/conda-bld/pytorch_1623448265233/work/c10/core/TensorImpl.h:1156.)\n",
      "  return torch.max_pool2d(input, kernel_size, stride, padding, dilation, ceil_mode)\n"
     ]
    }
   ],
   "source": [
    "proba_0, proba_1, predicted_labels, true_labels = [], [], [], []\n",
    "for image, _, label, _ in tqdm.notebook.tqdm(val_loader):\n",
    "    image = image.to(torch.device(0))\n",
    "    pred = torch.softmax(model(image),dim=-1)\n",
    "    pred = pred.detach().cpu()\n",
    "    predicted_label = torch.argmax(pred,dim=-1)[0]\n",
    "    predicted_labels.append(predicted_label.numpy())\n",
    "    true_labels.append(torch.argmax(label,dim=-1)[0].numpy())\n",
    "    proba_0.append(pred[0,0].numpy())\n",
    "    proba_1.append(pred[0,1].numpy())\n",
    "    del image\n",
    "    "
   ]
  },
  {
   "cell_type": "code",
   "execution_count": 12,
   "id": "813b30e2",
   "metadata": {},
   "outputs": [],
   "source": [
    "import pandas as pd\n",
    "\n",
    "df = pd.DataFrame.from_dict({'0':proba_0,'1':proba_1,'label':predicted_labels,'true_label':true_labels})"
   ]
  },
  {
   "cell_type": "code",
   "execution_count": 14,
   "id": "dddede00",
   "metadata": {},
   "outputs": [],
   "source": [
    "df.to_csv('weather_predictions.csv')"
   ]
  },
  {
   "cell_type": "code",
   "execution_count": 17,
   "id": "01616f8e",
   "metadata": {},
   "outputs": [
    {
     "name": "stderr",
     "output_type": "stream",
     "text": [
      "/opt/conda/lib/python3.7/site-packages/pytorch_lightning/callbacks/model_checkpoint.py:446: UserWarning: Checkpoint directory checkpoints/weatherClassifier/ exists and is not empty.\n",
      "  rank_zero_warn(f\"Checkpoint directory {dirpath} exists and is not empty.\")\n"
     ]
    }
   ],
   "source": [
    "from pytorch_lightning.callbacks import ModelCheckpoint\n",
    "from pytorch_lightning.loggers import WandbLogger\n",
    "checkpoint_callback = ModelCheckpoint(dirpath='checkpoints/weatherClassifier/',monitor='val_loss',mode='min')\n",
    "wandbLogger = WandbLogger(project='weatherGan',name='weatherClassifier')"
   ]
  },
  {
   "cell_type": "code",
   "execution_count": 18,
   "id": "415fd530",
   "metadata": {},
   "outputs": [
    {
     "name": "stderr",
     "output_type": "stream",
     "text": [
      "GPU available: True, used: True\n",
      "TPU available: False, using: 0 TPU cores\n",
      "IPU available: False, using: 0 IPUs\n"
     ]
    }
   ],
   "source": [
    "trainer = ptl.Trainer(gpus=[0],max_epochs=10,callbacks=[checkpoint_callback],\n",
    "                     logger=wandbLogger,log_every_n_steps = 5\n",
    "                     )"
   ]
  },
  {
   "cell_type": "code",
   "execution_count": 35,
   "id": "7fde59e9",
   "metadata": {},
   "outputs": [
    {
     "name": "stderr",
     "output_type": "stream",
     "text": [
      "LOCAL_RANK: 0 - CUDA_VISIBLE_DEVICES: [0,1]\n",
      "\u001b[34m\u001b[1mwandb\u001b[0m: Currently logged in as: \u001b[33madaminho\u001b[0m (use `wandb login --relogin` to force relogin)\n",
      "\u001b[34m\u001b[1mwandb\u001b[0m: wandb version 0.12.10 is available!  To upgrade, please run:\n",
      "\u001b[34m\u001b[1mwandb\u001b[0m:  $ pip install wandb --upgrade\n"
     ]
    },
    {
     "data": {
      "text/html": [
       "\n",
       "                    Syncing run <strong><a href=\"https://wandb.ai/adaminho/weatherGan/runs/a4na9cxa\" target=\"_blank\">weatherClassifier</a></strong> to <a href=\"https://wandb.ai/adaminho/weatherGan\" target=\"_blank\">Weights & Biases</a> (<a href=\"https://docs.wandb.com/integrations/jupyter.html\" target=\"_blank\">docs</a>).<br/>\n",
       "\n",
       "                "
      ],
      "text/plain": [
       "<IPython.core.display.HTML object>"
      ]
     },
     "metadata": {},
     "output_type": "display_data"
    },
    {
     "name": "stderr",
     "output_type": "stream",
     "text": [
      "\n",
      "  | Name  | Type                 | Params\n",
      "-----------------------------------------------\n",
      "0 | model | WeatherDiscriminator | 190 K \n",
      "1 | ce    | CrossEntropyLoss     | 0     \n",
      "-----------------------------------------------\n",
      "190 K     Trainable params\n",
      "0         Non-trainable params\n",
      "190 K     Total params\n",
      "0.762     Total estimated model params size (MB)\n"
     ]
    },
    {
     "data": {
      "application/vnd.jupyter.widget-view+json": {
       "model_id": "",
       "version_major": 2,
       "version_minor": 0
      },
      "text/plain": [
       "Validation sanity check: 0it [00:00, ?it/s]"
      ]
     },
     "metadata": {},
     "output_type": "display_data"
    },
    {
     "data": {
      "application/vnd.jupyter.widget-view+json": {
       "model_id": "2d3a32be1e9b41dca6273372612ddff5",
       "version_major": 2,
       "version_minor": 0
      },
      "text/plain": [
       "Training: -1it [00:00, ?it/s]"
      ]
     },
     "metadata": {},
     "output_type": "display_data"
    },
    {
     "name": "stderr",
     "output_type": "stream",
     "text": [
      "/opt/conda/lib/python3.7/site-packages/pytorch_lightning/trainer/properties.py:306: UserWarning: The progress bar already tracks a metric with the name(s) 'loss' and `self.log('loss', ..., prog_bar=True)` will overwrite this value.  If this is undesired, change the name or override `get_progress_bar_dict()` in `LightingModule`.\n",
      "  UserWarning,\n"
     ]
    },
    {
     "data": {
      "application/vnd.jupyter.widget-view+json": {
       "model_id": "",
       "version_major": 2,
       "version_minor": 0
      },
      "text/plain": [
       "Validating: 0it [00:00, ?it/s]"
      ]
     },
     "metadata": {},
     "output_type": "display_data"
    },
    {
     "data": {
      "application/vnd.jupyter.widget-view+json": {
       "model_id": "",
       "version_major": 2,
       "version_minor": 0
      },
      "text/plain": [
       "Validating: 0it [00:00, ?it/s]"
      ]
     },
     "metadata": {},
     "output_type": "display_data"
    },
    {
     "data": {
      "application/vnd.jupyter.widget-view+json": {
       "model_id": "",
       "version_major": 2,
       "version_minor": 0
      },
      "text/plain": [
       "Validating: 0it [00:00, ?it/s]"
      ]
     },
     "metadata": {},
     "output_type": "display_data"
    },
    {
     "data": {
      "application/vnd.jupyter.widget-view+json": {
       "model_id": "",
       "version_major": 2,
       "version_minor": 0
      },
      "text/plain": [
       "Validating: 0it [00:00, ?it/s]"
      ]
     },
     "metadata": {},
     "output_type": "display_data"
    },
    {
     "data": {
      "application/vnd.jupyter.widget-view+json": {
       "model_id": "",
       "version_major": 2,
       "version_minor": 0
      },
      "text/plain": [
       "Validating: 0it [00:00, ?it/s]"
      ]
     },
     "metadata": {},
     "output_type": "display_data"
    },
    {
     "data": {
      "application/vnd.jupyter.widget-view+json": {
       "model_id": "",
       "version_major": 2,
       "version_minor": 0
      },
      "text/plain": [
       "Validating: 0it [00:00, ?it/s]"
      ]
     },
     "metadata": {},
     "output_type": "display_data"
    },
    {
     "data": {
      "application/vnd.jupyter.widget-view+json": {
       "model_id": "",
       "version_major": 2,
       "version_minor": 0
      },
      "text/plain": [
       "Validating: 0it [00:00, ?it/s]"
      ]
     },
     "metadata": {},
     "output_type": "display_data"
    },
    {
     "data": {
      "application/vnd.jupyter.widget-view+json": {
       "model_id": "",
       "version_major": 2,
       "version_minor": 0
      },
      "text/plain": [
       "Validating: 0it [00:00, ?it/s]"
      ]
     },
     "metadata": {},
     "output_type": "display_data"
    },
    {
     "data": {
      "application/vnd.jupyter.widget-view+json": {
       "model_id": "",
       "version_major": 2,
       "version_minor": 0
      },
      "text/plain": [
       "Validating: 0it [00:00, ?it/s]"
      ]
     },
     "metadata": {},
     "output_type": "display_data"
    },
    {
     "data": {
      "application/vnd.jupyter.widget-view+json": {
       "model_id": "",
       "version_major": 2,
       "version_minor": 0
      },
      "text/plain": [
       "Validating: 0it [00:00, ?it/s]"
      ]
     },
     "metadata": {},
     "output_type": "display_data"
    }
   ],
   "source": [
    "trainer.fit(model, train_loader,val_loader)"
   ]
  },
  {
   "cell_type": "code",
   "execution_count": 20,
   "id": "6cb40297",
   "metadata": {},
   "outputs": [],
   "source": [
    "model = WeatherClassifier.load_from_checkpoint('checkpoints/weatherClassifier/epoch=9-step=2499.ckpt').double()"
   ]
  },
  {
   "cell_type": "code",
   "execution_count": 21,
   "id": "b492d5ab",
   "metadata": {},
   "outputs": [
    {
     "name": "stderr",
     "output_type": "stream",
     "text": [
      "LOCAL_RANK: 0 - CUDA_VISIBLE_DEVICES: [0,1]\n"
     ]
    },
    {
     "data": {
      "application/vnd.jupyter.widget-view+json": {
       "model_id": "02e4c44692e74cad846a849e4e1f1954",
       "version_major": 2,
       "version_minor": 0
      },
      "text/plain": [
       "Testing: 0it [00:00, ?it/s]"
      ]
     },
     "metadata": {},
     "output_type": "display_data"
    },
    {
     "name": "stdout",
     "output_type": "stream",
     "text": [
      "--------------------------------------------------------------------------------\n",
      "DATALOADER:0 TEST RESULTS\n",
      "{'test_accuracy': 0.8169999718666077,\n",
      " 'test_accuracy_epoch': 0.8169999718666077,\n",
      " 'test_loss': 0.4102165102958679,\n",
      " 'test_loss_epoch': 0.4102165102958679}\n",
      "--------------------------------------------------------------------------------\n"
     ]
    },
    {
     "data": {
      "text/plain": [
       "[{'test_loss': 0.4102165102958679,\n",
       "  'test_loss_epoch': 0.4102165102958679,\n",
       "  'test_accuracy': 0.8169999718666077,\n",
       "  'test_accuracy_epoch': 0.8169999718666077}]"
      ]
     },
     "execution_count": 21,
     "metadata": {},
     "output_type": "execute_result"
    }
   ],
   "source": [
    "trainer.test(model,val_loader)"
   ]
  },
  {
   "cell_type": "code",
   "execution_count": null,
   "id": "99346f1a",
   "metadata": {},
   "outputs": [],
   "source": []
  }
 ],
 "metadata": {
  "environment": {
   "name": "pytorch-gpu.1-9.m79",
   "type": "gcloud",
   "uri": "gcr.io/deeplearning-platform-release/pytorch-gpu.1-9:m79"
  },
  "kernelspec": {
   "display_name": "Python 3",
   "language": "python",
   "name": "python3"
  },
  "language_info": {
   "codemirror_mode": {
    "name": "ipython",
    "version": 3
   },
   "file_extension": ".py",
   "mimetype": "text/x-python",
   "name": "python",
   "nbconvert_exporter": "python",
   "pygments_lexer": "ipython3",
   "version": "3.7.10"
  }
 },
 "nbformat": 4,
 "nbformat_minor": 5
}
