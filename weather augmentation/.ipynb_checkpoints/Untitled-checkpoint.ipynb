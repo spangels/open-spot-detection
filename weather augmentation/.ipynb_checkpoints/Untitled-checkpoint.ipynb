{
 "cells": [],
 "metadata": {
  "environment": {
   "name": "pytorch-gpu.1-9.m79",
   "type": "gcloud",
   "uri": "gcr.io/deeplearning-platform-release/pytorch-gpu.1-9:m79"
  }
 },
 "nbformat": 4,
 "nbformat_minor": 5
}
