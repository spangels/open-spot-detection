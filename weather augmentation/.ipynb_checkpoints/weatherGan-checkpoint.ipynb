{
 "cells": [
  {
   "cell_type": "code",
   "execution_count": 1,
   "metadata": {},
   "outputs": [],
   "source": [
    "import scipy.io\n",
    "import os\n",
    "from PIL import Image\n",
    "from matplotlib import pyplot as plt\n",
    "import numpy as np\n",
    "import torch\n",
    "import pytorch_lightning as ptl\n",
    "from weatherGan.models.WeatherGan import WeatherGan\n",
    "from weatherGan.dataloader.dataset import ImageDataset\n",
    "from pytorch_lightning.callbacks import ModelCheckpoint\n",
    "from pytorch_lightning.loggers import WandbLogger\n",
    "from torch.utils.data import DataLoader\n",
    "from pytorch_lightning.callbacks import Callback\n",
    "import random\n",
    "\n"
   ]
  },
  {
   "cell_type": "code",
   "execution_count": 2,
   "metadata": {},
   "outputs": [],
   "source": [
    "#path of the dataset\n",
    "PATH = 'datasets/dataset/'"
   ]
  },
  {
   "cell_type": "code",
   "execution_count": 3,
   "metadata": {},
   "outputs": [
    {
     "data": {
      "application/vnd.jupyter.widget-view+json": {
       "model_id": "6ca1c77ead5f45a38da2de367dde6f30",
       "version_major": 2,
       "version_minor": 0
      },
      "text/plain": [
       "  0%|          | 0/8000 [00:00<?, ?it/s]"
      ]
     },
     "metadata": {},
     "output_type": "display_data"
    },
    {
     "data": {
      "application/vnd.jupyter.widget-view+json": {
       "model_id": "8e034be51a644891a2149c7ecd007ed8",
       "version_major": 2,
       "version_minor": 0
      },
      "text/plain": [
       "  0%|          | 0/2000 [00:00<?, ?it/s]"
      ]
     },
     "metadata": {},
     "output_type": "display_data"
    }
   ],
   "source": [
    "#load the dataset from our folders, we use a custom class implemented in the library WeatherGan\n",
    "train_dataset = ImageDataset(data_dir=PATH,transform= lambda x : x/255,target_transform= lambda x : torch.nn.functional.one_hot( torch.tensor(int(x)), 2)\n",
    ")\n",
    "val_dataset = ImageDataset(data_dir=PATH,transform= lambda x : x/255,target_transform= lambda x : torch.nn.functional.one_hot( torch.tensor(int(x)), 2), mode='test'\n",
    ")"
   ]
  },
  {
   "cell_type": "code",
   "execution_count": 4,
   "metadata": {},
   "outputs": [],
   "source": [
    "#loading the dataset in our train and val loaders\n",
    "train_loader = DataLoader(train_dataset, batch_size = 4,num_workers=8,shuffle = True)\n",
    "val_loader = DataLoader(val_dataset, batch_size = 4,num_workers=8,shuffle = False)"
   ]
  },
  {
   "cell_type": "code",
   "execution_count": 5,
   "metadata": {},
   "outputs": [],
   "source": [
    "#This is our Gan, we already pretrained the segmentator and the weather classifier\n",
    "#we freeze all weights except those of the generator and the expert\n",
    "model = WeatherGan(num_classes_segmentation=6,num_classes_weather=2,noise_size=32,\n",
    "         weather_discr_ckpt='checkpoints/weatherClassifier/epoch=9-step=2499.ckpt',segmentator_ckpt='checkpoints/segmentator/last_seg_ckpt.ckpt' ).double()\n"
   ]
  },
  {
   "cell_type": "code",
   "execution_count": 6,
   "metadata": {},
   "outputs": [
    {
     "name": "stderr",
     "output_type": "stream",
     "text": [
      "/opt/conda/lib/python3.7/site-packages/pytorch_lightning/callbacks/model_checkpoint.py:446: UserWarning: Checkpoint directory checkpoints/gancheckpoints/ exists and is not empty.\n",
      "  rank_zero_warn(f\"Checkpoint directory {dirpath} exists and is not empty.\")\n"
     ]
    }
   ],
   "source": [
    "#defining a checkpoint call back to save our weights at each epoch end, and a logger to track the metrics of our model during the training\n",
    "checkpoint_callback = ModelCheckpoint(dirpath='checkpoints/gancheckpoints/',monitor='val_loss',mode='min')\n",
    "wandbLogger = WandbLogger(project='weatherGan',name='GAN_training_fixed')"
   ]
  },
  {
   "cell_type": "code",
   "execution_count": 7,
   "metadata": {},
   "outputs": [],
   "source": [
    "#This is a callback we defined to generate and save k images at each epoch end.\n",
    "#Sadly we didn't had the time to test it properly so it's not used\n",
    "\n",
    "class ImageGenCallback(Callback):\n",
    "    def __init__(self,num_gen,path,save_path):\n",
    "        super(ImageGenCallback,self).__init__()\n",
    "        self.path = path\n",
    "        self.save_path = save_path\n",
    "        self.num_gen = num_gen\n",
    "        self.buffer = 0\n",
    "    def on_batch_end(self,trainer,pl_module):\n",
    "        self.buffer += 1\n",
    "        if self.buffer % 100 == 0:\n",
    "            img, labels, targets, noises = self.__load_random_images__()\n",
    "            x_gn, discr, weather = trainer.model(img,targets,noises)\n",
    "            x_gn, discr, weather = x_gn.detach(), discr.detach(), weather.detach()\n",
    "            torch.save(img,f'{self.save_path}/true_image_{self.buffer}_n.pt')\n",
    "            torch.save(x_gn,f'{self.save_path}/image_gen_{self.buffer}_n.pt')\n",
    "            torch.save(discr,f'{self.save_path}/discr_{self.buffer}_n.pt')\n",
    "            torch.save(weather,f'{self.save_path}/weather_{self.buffer}_n.pt')\n",
    "    def __load_random_images__(self):\n",
    "        path_img = self.path+f'test_images/'\n",
    "        images = [img for img in os.listdir(path_img)]\n",
    "        imgs, labels, targets, noises = [], [], [], []\n",
    "        choices = random.choices(range(0,len(images)),k=self.num_gen)\n",
    "        for choice in choices:\n",
    "            img_path = path_img + images[choice]\n",
    "            img_array = np.array(Image.open(img_path))\n",
    "            imgs.append(torch.tensor(img_array).double().to(1))\n",
    "            label = torch.tensor(int(np.array([ 'sunny' in images[choice] ])) ).to(1)\n",
    "            target = 1-label\n",
    "            labels.append(torch.nn.functional.one_hot(label , 2) )\n",
    "            targets.append(torch.nn.functional.one_hot( target,2 ) )\n",
    "        labels = torch.stack(labels,dim=0)\n",
    "        targets = torch.stack(targets,dim=0)\n",
    "        imgs = torch.stack(imgs,dim=0).permute(0,3,1,2)/255\n",
    "        noises = torch.randn(size=(self.num_gen,32),device =1)\n",
    "\n",
    "        return imgs, labels, targets, noises\n",
    "        \n",
    "    def on_train_end(self, trainer, pl_module):\n",
    "        print(\"do something when training ends\")"
   ]
  },
  {
   "cell_type": "code",
   "execution_count": 8,
   "metadata": {},
   "outputs": [
    {
     "name": "stderr",
     "output_type": "stream",
     "text": [
      "GPU available: True, used: True\n",
      "TPU available: False, using: 0 TPU cores\n",
      "IPU available: False, using: 0 IPUs\n"
     ]
    }
   ],
   "source": [
    "#a classical ptl trainer, we specify the name of the used device. If you don't have access to a GPU please set device to 'cpu' or None\n",
    "device = [1]\n",
    "image_callback = ImageGenCallback(4,PATH,'image_callbacks')\n",
    "trainer = ptl.Trainer(gpus=device,max_epochs=20,\n",
    "                      callbacks=[checkpoint_callback,image_callback],\n",
    "                      logger=wandbLogger, log_every_n_steps=5 \n",
    "                     )"
   ]
  },
  {
   "cell_type": "code",
   "execution_count": 9,
   "metadata": {},
   "outputs": [],
   "source": [
    "def print_image(tensor):\n",
    "    np_img = tensor.detach().permute(1,2,0).cpu().numpy()\n",
    "    plt.imshow(np_img )\n",
    "    "
   ]
  },
  {
   "cell_type": "code",
   "execution_count": 10,
   "metadata": {},
   "outputs": [],
   "source": [
    "for param in model.expert.featureExtractor.parameters():\n",
    "    param.requires_grad = False"
   ]
  },
  {
   "cell_type": "code",
   "execution_count": 11,
   "metadata": {},
   "outputs": [
    {
     "name": "stdout",
     "output_type": "stream",
     "text": [
      "generator.Ginit.downSampleBlock.convBlock1.conv.weight\n",
      "generator.Ginit.downSampleBlock.convBlock1.conv.bias\n",
      "generator.Ginit.downSampleBlock.convBlock1.layernorm.weight\n",
      "generator.Ginit.downSampleBlock.convBlock1.layernorm.bias\n",
      "generator.Ginit.downSampleBlock.convBlock2.conv.weight\n",
      "generator.Ginit.downSampleBlock.convBlock2.conv.bias\n",
      "generator.Ginit.downSampleBlock.convBlock2.layernorm.weight\n",
      "generator.Ginit.downSampleBlock.convBlock2.layernorm.bias\n",
      "generator.Ginit.downSampleBlock.convBlock3.conv.weight\n",
      "generator.Ginit.downSampleBlock.convBlock3.conv.bias\n",
      "generator.Ginit.downSampleBlock.convBlock3.layernorm.weight\n",
      "generator.Ginit.downSampleBlock.convBlock3.layernorm.bias\n",
      "generator.Ginit.upSampleBlock.convT1.tranpose_conv.weight\n",
      "generator.Ginit.upSampleBlock.convT1.tranpose_conv.bias\n",
      "generator.Ginit.upSampleBlock.convT2.tranpose_conv.weight\n",
      "generator.Ginit.upSampleBlock.convT2.tranpose_conv.bias\n",
      "generator.Ginit.upSampleBlock.convT3.tranpose_conv.weight\n",
      "generator.Ginit.upSampleBlock.convT3.tranpose_conv.bias\n",
      "expert.hidden_layer.weight\n",
      "expert.hidden_layer.bias\n",
      "expert.output_layer.weight\n",
      "expert.output_layer.bias\n"
     ]
    }
   ],
   "source": [
    "#Just making sure that the only trainable parameters are those of the expert and the generator\n",
    "for name, param in model.named_parameters():\n",
    "    if param.requires_grad == True:\n",
    "        print(name)"
   ]
  },
  {
   "cell_type": "code",
   "execution_count": 12,
   "metadata": {},
   "outputs": [
    {
     "name": "stderr",
     "output_type": "stream",
     "text": [
      "LOCAL_RANK: 0 - CUDA_VISIBLE_DEVICES: [0,1]\n",
      "\u001b[34m\u001b[1mwandb\u001b[0m: Currently logged in as: \u001b[33madaminho\u001b[0m (use `wandb login --relogin` to force relogin)\n",
      "\u001b[34m\u001b[1mwandb\u001b[0m: wandb version 0.12.10 is available!  To upgrade, please run:\n",
      "\u001b[34m\u001b[1mwandb\u001b[0m:  $ pip install wandb --upgrade\n"
     ]
    },
    {
     "data": {
      "text/html": [
       "\n",
       "                    Syncing run <strong><a href=\"https://wandb.ai/adaminho/weatherGan/runs/19fepwn1\" target=\"_blank\">GAN_training_fixed_adversial_loss_1</a></strong> to <a href=\"https://wandb.ai/adaminho/weatherGan\" target=\"_blank\">Weights & Biases</a> (<a href=\"https://docs.wandb.com/integrations/jupyter.html\" target=\"_blank\">docs</a>).<br/>\n",
       "\n",
       "                "
      ],
      "text/plain": [
       "<IPython.core.display.HTML object>"
      ]
     },
     "metadata": {},
     "output_type": "display_data"
    },
    {
     "name": "stderr",
     "output_type": "stream",
     "text": [
      "\n",
      "  | Name                 | Type                 | Params\n",
      "--------------------------------------------------------------\n",
      "0 | generator            | Gwithoutatt          | 4.2 M \n",
      "1 | expert               | Expert               | 190 K \n",
      "2 | weatherDiscriminator | WeatherDiscriminator | 190 K \n",
      "3 | ce                   | CrossEntropyLoss     | 0     \n",
      "4 | l1                   | L1Loss               | 0     \n",
      "--------------------------------------------------------------\n",
      "674 K     Trainable params\n",
      "4.0 M     Non-trainable params\n",
      "4.6 M     Total params\n",
      "18.500    Total estimated model params size (MB)\n"
     ]
    },
    {
     "data": {
      "application/vnd.jupyter.widget-view+json": {
       "model_id": "",
       "version_major": 2,
       "version_minor": 0
      },
      "text/plain": [
       "Validation sanity check: 0it [00:00, ?it/s]"
      ]
     },
     "metadata": {},
     "output_type": "display_data"
    },
    {
     "name": "stderr",
     "output_type": "stream",
     "text": [
      "/opt/conda/lib/python3.7/site-packages/torch/nn/functional.py:718: UserWarning: Named tensors and all their associated APIs are an experimental feature and subject to change. Please do not use them for anything important until they are released as stable. (Triggered internally at  /opt/conda/conda-bld/pytorch_1623448265233/work/c10/core/TensorImpl.h:1156.)\n",
      "  return torch.max_pool2d(input, kernel_size, stride, padding, dilation, ceil_mode)\n"
     ]
    },
    {
     "data": {
      "application/vnd.jupyter.widget-view+json": {
       "model_id": "33403a0aaa4f47e29ece00963a9c817e",
       "version_major": 2,
       "version_minor": 0
      },
      "text/plain": [
       "Training: -1it [00:00, ?it/s]"
      ]
     },
     "metadata": {},
     "output_type": "display_data"
    },
    {
     "name": "stderr",
     "output_type": "stream",
     "text": [
      "Process wandb_internal:\n",
      "Traceback (most recent call last):\n",
      "  File \"/opt/conda/lib/python3.7/multiprocessing/process.py\", line 297, in _bootstrap\n",
      "    self.run()\n",
      "  File \"/opt/conda/lib/python3.7/multiprocessing/process.py\", line 99, in run\n",
      "    self._target(*self._args, **self._kwargs)\n",
      "  File \"/opt/conda/lib/python3.7/site-packages/wandb/sdk/internal/internal.py\", line 153, in wandb_internal\n",
      "    thread.join()\n",
      "  File \"/opt/conda/lib/python3.7/threading.py\", line 1044, in join\n",
      "    self._wait_for_tstate_lock()\n",
      "  File \"/opt/conda/lib/python3.7/threading.py\", line 1060, in _wait_for_tstate_lock\n",
      "    elif lock.acquire(block, timeout):\n",
      "KeyboardInterrupt\n",
      "Traceback (most recent call last):\n",
      "  File \"<string>\", line 1, in <module>\n",
      "  File \"/opt/conda/lib/python3.7/multiprocessing/spawn.py\", line 105, in spawn_main\n",
      "    exitcode = _main(fd)\n",
      "  File \"/opt/conda/lib/python3.7/multiprocessing/spawn.py\", line 118, in _main\n",
      "    return self._bootstrap()\n",
      "  File \"/opt/conda/lib/python3.7/multiprocessing/process.py\", line 315, in _bootstrap\n",
      "    threading._shutdown()\n",
      "  File \"/opt/conda/lib/python3.7/threading.py\", line 1307, in _shutdown\n",
      "    lock.acquire()\n",
      "KeyboardInterrupt\n",
      "Exception in thread Thread-11:\n",
      "Traceback (most recent call last):\n",
      "  File \"/opt/conda/lib/python3.7/threading.py\", line 926, in _bootstrap_inner\n",
      "    self.run()\n",
      "  File \"/opt/conda/lib/python3.7/threading.py\", line 870, in run\n",
      "    self._target(*self._args, **self._kwargs)\n",
      "  File \"/opt/conda/lib/python3.7/site-packages/wandb/sdk/wandb_run.py\", line 167, in check_status\n",
      "    status_response = self._interface.communicate_stop_status()\n",
      "  File \"/opt/conda/lib/python3.7/site-packages/wandb/sdk/interface/interface.py\", line 109, in communicate_stop_status\n",
      "    resp = self._communicate_stop_status(status)\n",
      "  File \"/opt/conda/lib/python3.7/site-packages/wandb/sdk/interface/interface_queue.py\", line 401, in _communicate_stop_status\n",
      "    resp = self._communicate(req, local=True)\n",
      "  File \"/opt/conda/lib/python3.7/site-packages/wandb/sdk/interface/interface_queue.py\", line 232, in _communicate\n",
      "    return self._communicate_async(rec, local=local).get(timeout=timeout)\n",
      "  File \"/opt/conda/lib/python3.7/site-packages/wandb/sdk/interface/interface_queue.py\", line 237, in _communicate_async\n",
      "    raise Exception(\"The wandb backend process has shutdown\")\n",
      "Exception: The wandb backend process has shutdown\n",
      "\n",
      "Exception in thread Thread-12:\n",
      "Traceback (most recent call last):\n",
      "  File \"/opt/conda/lib/python3.7/threading.py\", line 926, in _bootstrap_inner\n",
      "    self.run()\n",
      "  File \"/opt/conda/lib/python3.7/threading.py\", line 870, in run\n",
      "    self._target(*self._args, **self._kwargs)\n",
      "  File \"/opt/conda/lib/python3.7/site-packages/wandb/sdk/wandb_run.py\", line 149, in check_network_status\n",
      "    status_response = self._interface.communicate_network_status()\n",
      "  File \"/opt/conda/lib/python3.7/site-packages/wandb/sdk/interface/interface.py\", line 120, in communicate_network_status\n",
      "    resp = self._communicate_network_status(status)\n",
      "  File \"/opt/conda/lib/python3.7/site-packages/wandb/sdk/interface/interface_queue.py\", line 411, in _communicate_network_status\n",
      "    resp = self._communicate(req, local=True)\n",
      "  File \"/opt/conda/lib/python3.7/site-packages/wandb/sdk/interface/interface_queue.py\", line 232, in _communicate\n",
      "    return self._communicate_async(rec, local=local).get(timeout=timeout)\n",
      "  File \"/opt/conda/lib/python3.7/site-packages/wandb/sdk/interface/interface_queue.py\", line 237, in _communicate_async\n",
      "    raise Exception(\"The wandb backend process has shutdown\")\n",
      "Exception: The wandb backend process has shutdown\n",
      "\n"
     ]
    },
    {
     "name": "stdout",
     "output_type": "stream",
     "text": [
      "Error in callback <function _WandbInit._pause_backend at 0x7f7f615a90e0> (for post_run_cell):\n"
     ]
    },
    {
     "name": "stderr",
     "output_type": "stream",
     "text": [
      "/opt/conda/lib/python3.7/site-packages/pytorch_lightning/trainer/trainer.py:1051: UserWarning: Detected KeyboardInterrupt, attempting graceful shutdown...\n",
      "  rank_zero_warn(\"Detected KeyboardInterrupt, attempting graceful shutdown...\")\n"
     ]
    },
    {
     "ename": "Exception",
     "evalue": "The wandb backend process has shutdown",
     "output_type": "error",
     "traceback": [
      "\u001b[0;31m---------------------------------------------------------------------------\u001b[0m",
      "\u001b[0;31mException\u001b[0m                                 Traceback (most recent call last)",
      "\u001b[0;32m/opt/conda/lib/python3.7/site-packages/backcall/backcall.py\u001b[0m in \u001b[0;36madapted\u001b[0;34m(*args, **kwargs)\u001b[0m\n\u001b[1;32m    102\u001b[0m                 \u001b[0mkwargs\u001b[0m\u001b[0;34m.\u001b[0m\u001b[0mpop\u001b[0m\u001b[0;34m(\u001b[0m\u001b[0mname\u001b[0m\u001b[0;34m)\u001b[0m\u001b[0;34m\u001b[0m\u001b[0;34m\u001b[0m\u001b[0m\n\u001b[1;32m    103\u001b[0m \u001b[0;31m#            print(args, kwargs, unmatched_pos, cut_positional, unmatched_kw)\u001b[0m\u001b[0;34m\u001b[0m\u001b[0;34m\u001b[0m\u001b[0;34m\u001b[0m\u001b[0m\n\u001b[0;32m--> 104\u001b[0;31m             \u001b[0;32mreturn\u001b[0m \u001b[0mcallback\u001b[0m\u001b[0;34m(\u001b[0m\u001b[0;34m*\u001b[0m\u001b[0margs\u001b[0m\u001b[0;34m,\u001b[0m \u001b[0;34m**\u001b[0m\u001b[0mkwargs\u001b[0m\u001b[0;34m)\u001b[0m\u001b[0;34m\u001b[0m\u001b[0;34m\u001b[0m\u001b[0m\n\u001b[0m\u001b[1;32m    105\u001b[0m \u001b[0;34m\u001b[0m\u001b[0m\n\u001b[1;32m    106\u001b[0m         \u001b[0;32mreturn\u001b[0m \u001b[0madapted\u001b[0m\u001b[0;34m\u001b[0m\u001b[0;34m\u001b[0m\u001b[0m\n",
      "\u001b[0;32m/opt/conda/lib/python3.7/site-packages/wandb/sdk/wandb_init.py\u001b[0m in \u001b[0;36m_pause_backend\u001b[0;34m(self)\u001b[0m\n\u001b[1;32m    287\u001b[0m                 \u001b[0mres\u001b[0m \u001b[0;34m=\u001b[0m \u001b[0mself\u001b[0m\u001b[0;34m.\u001b[0m\u001b[0mrun\u001b[0m\u001b[0;34m.\u001b[0m\u001b[0mlog_code\u001b[0m\u001b[0;34m(\u001b[0m\u001b[0mroot\u001b[0m\u001b[0;34m=\u001b[0m\u001b[0;32mNone\u001b[0m\u001b[0;34m)\u001b[0m\u001b[0;34m\u001b[0m\u001b[0;34m\u001b[0m\u001b[0m\n\u001b[1;32m    288\u001b[0m                 \u001b[0mlogger\u001b[0m\u001b[0;34m.\u001b[0m\u001b[0minfo\u001b[0m\u001b[0;34m(\u001b[0m\u001b[0;34m\"saved code: %s\"\u001b[0m\u001b[0;34m,\u001b[0m \u001b[0mres\u001b[0m\u001b[0;34m)\u001b[0m\u001b[0;34m\u001b[0m\u001b[0;34m\u001b[0m\u001b[0m\n\u001b[0;32m--> 289\u001b[0;31m             \u001b[0mself\u001b[0m\u001b[0;34m.\u001b[0m\u001b[0mbackend\u001b[0m\u001b[0;34m.\u001b[0m\u001b[0minterface\u001b[0m\u001b[0;34m.\u001b[0m\u001b[0mpublish_pause\u001b[0m\u001b[0;34m(\u001b[0m\u001b[0;34m)\u001b[0m\u001b[0;34m\u001b[0m\u001b[0;34m\u001b[0m\u001b[0m\n\u001b[0m\u001b[1;32m    290\u001b[0m \u001b[0;34m\u001b[0m\u001b[0m\n\u001b[1;32m    291\u001b[0m     \u001b[0;32mdef\u001b[0m \u001b[0m_resume_backend\u001b[0m\u001b[0;34m(\u001b[0m\u001b[0mself\u001b[0m\u001b[0;34m)\u001b[0m\u001b[0;34m:\u001b[0m\u001b[0;34m\u001b[0m\u001b[0;34m\u001b[0m\u001b[0m\n",
      "\u001b[0;32m/opt/conda/lib/python3.7/site-packages/wandb/sdk/interface/interface.py\u001b[0m in \u001b[0;36mpublish_pause\u001b[0;34m(self)\u001b[0m\n\u001b[1;32m    535\u001b[0m     \u001b[0;32mdef\u001b[0m \u001b[0mpublish_pause\u001b[0m\u001b[0;34m(\u001b[0m\u001b[0mself\u001b[0m\u001b[0;34m)\u001b[0m \u001b[0;34m->\u001b[0m \u001b[0;32mNone\u001b[0m\u001b[0;34m:\u001b[0m\u001b[0;34m\u001b[0m\u001b[0;34m\u001b[0m\u001b[0m\n\u001b[1;32m    536\u001b[0m         \u001b[0mpause\u001b[0m \u001b[0;34m=\u001b[0m \u001b[0mpb\u001b[0m\u001b[0;34m.\u001b[0m\u001b[0mPauseRequest\u001b[0m\u001b[0;34m(\u001b[0m\u001b[0;34m)\u001b[0m\u001b[0;34m\u001b[0m\u001b[0;34m\u001b[0m\u001b[0m\n\u001b[0;32m--> 537\u001b[0;31m         \u001b[0mself\u001b[0m\u001b[0;34m.\u001b[0m\u001b[0m_publish_pause\u001b[0m\u001b[0;34m(\u001b[0m\u001b[0mpause\u001b[0m\u001b[0;34m)\u001b[0m\u001b[0;34m\u001b[0m\u001b[0;34m\u001b[0m\u001b[0m\n\u001b[0m\u001b[1;32m    538\u001b[0m \u001b[0;34m\u001b[0m\u001b[0m\n\u001b[1;32m    539\u001b[0m     \u001b[0;34m@\u001b[0m\u001b[0mabstractmethod\u001b[0m\u001b[0;34m\u001b[0m\u001b[0;34m\u001b[0m\u001b[0m\n",
      "\u001b[0;32m/opt/conda/lib/python3.7/site-packages/wandb/sdk/interface/interface_queue.py\u001b[0m in \u001b[0;36m_publish_pause\u001b[0;34m(self, pause)\u001b[0m\n\u001b[1;32m    283\u001b[0m     \u001b[0;32mdef\u001b[0m \u001b[0m_publish_pause\u001b[0m\u001b[0;34m(\u001b[0m\u001b[0mself\u001b[0m\u001b[0;34m,\u001b[0m \u001b[0mpause\u001b[0m\u001b[0;34m:\u001b[0m \u001b[0mpb\u001b[0m\u001b[0;34m.\u001b[0m\u001b[0mPauseRequest\u001b[0m\u001b[0;34m)\u001b[0m \u001b[0;34m->\u001b[0m \u001b[0;32mNone\u001b[0m\u001b[0;34m:\u001b[0m\u001b[0;34m\u001b[0m\u001b[0;34m\u001b[0m\u001b[0m\n\u001b[1;32m    284\u001b[0m         \u001b[0mrec\u001b[0m \u001b[0;34m=\u001b[0m \u001b[0mself\u001b[0m\u001b[0;34m.\u001b[0m\u001b[0m_make_request\u001b[0m\u001b[0;34m(\u001b[0m\u001b[0mpause\u001b[0m\u001b[0;34m=\u001b[0m\u001b[0mpause\u001b[0m\u001b[0;34m)\u001b[0m\u001b[0;34m\u001b[0m\u001b[0;34m\u001b[0m\u001b[0m\n\u001b[0;32m--> 285\u001b[0;31m         \u001b[0mself\u001b[0m\u001b[0;34m.\u001b[0m\u001b[0m_publish\u001b[0m\u001b[0;34m(\u001b[0m\u001b[0mrec\u001b[0m\u001b[0;34m)\u001b[0m\u001b[0;34m\u001b[0m\u001b[0;34m\u001b[0m\u001b[0m\n\u001b[0m\u001b[1;32m    286\u001b[0m \u001b[0;34m\u001b[0m\u001b[0m\n\u001b[1;32m    287\u001b[0m     \u001b[0;32mdef\u001b[0m \u001b[0m_publish_resume\u001b[0m\u001b[0;34m(\u001b[0m\u001b[0mself\u001b[0m\u001b[0;34m,\u001b[0m \u001b[0mresume\u001b[0m\u001b[0;34m:\u001b[0m \u001b[0mpb\u001b[0m\u001b[0;34m.\u001b[0m\u001b[0mResumeRequest\u001b[0m\u001b[0;34m)\u001b[0m \u001b[0;34m->\u001b[0m \u001b[0;32mNone\u001b[0m\u001b[0;34m:\u001b[0m\u001b[0;34m\u001b[0m\u001b[0;34m\u001b[0m\u001b[0m\n",
      "\u001b[0;32m/opt/conda/lib/python3.7/site-packages/wandb/sdk/interface/interface_queue.py\u001b[0m in \u001b[0;36m_publish\u001b[0;34m(self, record, local)\u001b[0m\n\u001b[1;32m    221\u001b[0m     \u001b[0;32mdef\u001b[0m \u001b[0m_publish\u001b[0m\u001b[0;34m(\u001b[0m\u001b[0mself\u001b[0m\u001b[0;34m,\u001b[0m \u001b[0mrecord\u001b[0m\u001b[0;34m:\u001b[0m \u001b[0mpb\u001b[0m\u001b[0;34m.\u001b[0m\u001b[0mRecord\u001b[0m\u001b[0;34m,\u001b[0m \u001b[0mlocal\u001b[0m\u001b[0;34m:\u001b[0m \u001b[0mbool\u001b[0m \u001b[0;34m=\u001b[0m \u001b[0;32mNone\u001b[0m\u001b[0;34m)\u001b[0m \u001b[0;34m->\u001b[0m \u001b[0;32mNone\u001b[0m\u001b[0;34m:\u001b[0m\u001b[0;34m\u001b[0m\u001b[0;34m\u001b[0m\u001b[0m\n\u001b[1;32m    222\u001b[0m         \u001b[0;32mif\u001b[0m \u001b[0mself\u001b[0m\u001b[0;34m.\u001b[0m\u001b[0m_process_check\u001b[0m \u001b[0;32mand\u001b[0m \u001b[0mself\u001b[0m\u001b[0;34m.\u001b[0m\u001b[0m_process\u001b[0m \u001b[0;32mand\u001b[0m \u001b[0;32mnot\u001b[0m \u001b[0mself\u001b[0m\u001b[0;34m.\u001b[0m\u001b[0m_process\u001b[0m\u001b[0;34m.\u001b[0m\u001b[0mis_alive\u001b[0m\u001b[0;34m(\u001b[0m\u001b[0;34m)\u001b[0m\u001b[0;34m:\u001b[0m\u001b[0;34m\u001b[0m\u001b[0;34m\u001b[0m\u001b[0m\n\u001b[0;32m--> 223\u001b[0;31m             \u001b[0;32mraise\u001b[0m \u001b[0mException\u001b[0m\u001b[0;34m(\u001b[0m\u001b[0;34m\"The wandb backend process has shutdown\"\u001b[0m\u001b[0;34m)\u001b[0m\u001b[0;34m\u001b[0m\u001b[0;34m\u001b[0m\u001b[0m\n\u001b[0m\u001b[1;32m    224\u001b[0m         \u001b[0;32mif\u001b[0m \u001b[0mlocal\u001b[0m\u001b[0;34m:\u001b[0m\u001b[0;34m\u001b[0m\u001b[0;34m\u001b[0m\u001b[0m\n\u001b[1;32m    225\u001b[0m             \u001b[0mrecord\u001b[0m\u001b[0;34m.\u001b[0m\u001b[0mcontrol\u001b[0m\u001b[0;34m.\u001b[0m\u001b[0mlocal\u001b[0m \u001b[0;34m=\u001b[0m \u001b[0mlocal\u001b[0m\u001b[0;34m\u001b[0m\u001b[0;34m\u001b[0m\u001b[0m\n",
      "\u001b[0;31mException\u001b[0m: The wandb backend process has shutdown"
     ]
    }
   ],
   "source": [
    "#fitting the model\n",
    "trainer.fit(model, train_loader,val_loader)"
   ]
  },
  {
   "cell_type": "code",
   "execution_count": null,
   "metadata": {},
   "outputs": [],
   "source": []
  }
 ],
 "metadata": {
  "environment": {
   "name": "pytorch-gpu.1-9.m79",
   "type": "gcloud",
   "uri": "gcr.io/deeplearning-platform-release/pytorch-gpu.1-9:m79"
  },
  "interpreter": {
   "hash": "97aea15f2f3047b1d63fa18650fa032729aff31f46149b38e7e2b0a9e17cc1b5"
  },
  "kernelspec": {
   "display_name": "Python 3",
   "language": "python",
   "name": "python3"
  },
  "language_info": {
   "codemirror_mode": {
    "name": "ipython",
    "version": 3
   },
   "file_extension": ".py",
   "mimetype": "text/x-python",
   "name": "python",
   "nbconvert_exporter": "python",
   "pygments_lexer": "ipython3",
   "version": "3.7.10"
  }
 },
 "nbformat": 4,
 "nbformat_minor": 4
}
